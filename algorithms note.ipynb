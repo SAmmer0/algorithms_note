{
 "cells": [
  {
   "cell_type": "markdown",
   "metadata": {},
   "source": [
    "#Dijkstra Algorithm\n",
    "##Introduction(From [Wikipedia](https://en.wikipedia.org/wiki/Dijkstra%27s_algorithm#Algorithm))\n",
    ">Dijkstra's algorithm is an algorithm for finding the shortest paths between nodes in a graph, which may represent, for example, road networks. It was conceived by computer scientist Edsger W. Dijkstra in 1956 and published three years later. The algorithm exists in many variants; Dijkstra's original variant found the shortest path between two nodes, but a more common variant fixes a single node as the \"source\" node and finds shortest paths from the source to all other nodes in the graph, producing a shortest path tree.\n",
    "\n",
    "##Algorithm(to be edited)"
   ]
  },
  {
   "cell_type": "markdown",
   "metadata": {},
   "source": [
    "#Basic Data Structure\n",
    "##1. *Stack*\n",
    "###Operations\n",
    "* PUSH\n",
    "* POP(DELETE)\n",
    "* STACK-EMPTY\n",
    "###Implementation\n",
    "####1. Array Implementation(At most $n$ elements)\n",
    "```C\n",
    "int STACK-EMPTY(S){\n",
    "    if(S.top == 0)\n",
    "        return 1;\n",
    "    return 0;\n",
    "}\n",
    "void PUSH(S, x){\n",
    "    S.top++;\n",
    "    S[S.top] = x;\n",
    "}\n",
    "int POP(S){\n",
    "    if(STACK-EMPTY)(S)){\n",
    "        printf(\"Error, underflow!\\n\");\n",
    "        exit(0);\n",
    "    }\n",
    "    S.top--;\n",
    "    return S[S.top + 1];\n",
    "}\n",
    "```\n",
    "\n",
    "##2. Queue\n",
    "###Operation\n",
    "* ENQUEUE(INSERT)\n",
    "* DEQUEUE(DELETE)\n",
    "###Implementation\n",
    "####1. Array Implementation(At most $n$ elements)\n",
    "```C\n",
    "void ENQUEUE(Q,x){\n",
    "    Q[Q.tail] = x;\n",
    "    if(Q.tail == Q.length - 1)\n",
    "        Q.tail = 0;\n",
    "    else\n",
    "        Q.tail++;\n",
    "int DEQUEUE(Q){\n",
    "    int x = Q.head;\n",
    "    if(Q.head == Q.length - 1)\n",
    "        Q.head = 0;\n",
    "    else\n",
    "        Q.head++;\n",
    "    return x;\n",
    "}\n",
    "```\n",
    "        \n",
    "    \n"
   ]
  },
  {
   "cell_type": "code",
   "execution_count": null,
   "metadata": {
    "collapsed": true
   },
   "outputs": [],
   "source": []
  },
  {
   "cell_type": "code",
   "execution_count": null,
   "metadata": {
    "collapsed": true
   },
   "outputs": [],
   "source": []
  }
 ],
 "metadata": {
  "kernelspec": {
   "display_name": "Python 3",
   "language": "python",
   "name": "python3"
  },
  "language_info": {
   "codemirror_mode": {
    "name": "ipython",
    "version": 3
   },
   "file_extension": ".py",
   "mimetype": "text/x-python",
   "name": "python",
   "nbconvert_exporter": "python",
   "pygments_lexer": "ipython3",
   "version": "3.3.5"
  }
 },
 "nbformat": 4,
 "nbformat_minor": 0
}
